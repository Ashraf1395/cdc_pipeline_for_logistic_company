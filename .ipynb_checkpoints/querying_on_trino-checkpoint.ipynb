{
 "cells": [
  {
   "cell_type": "markdown",
   "id": "6ab875bd-09b8-4ffc-bea2-683ceab76956",
   "metadata": {},
   "source": [
    "# Apache X Table with DeltaStreamer and trino Demo"
   ]
  },
  {
   "cell_type": "code",
   "execution_count": null,
   "id": "180b8c66-7b21-4a7d-a424-d28d7541c4eb",
   "metadata": {},
   "outputs": [],
   "source": [
    "# Install DEP\n",
    "!pip install trino\n",
    "!pip install ipython-sql\n",
    "\n"
   ]
  },
  {
   "cell_type": "markdown",
   "id": "9dd5b6ec-dc36-4666-abfd-2a3d7321fc55",
   "metadata": {},
   "source": [
    "# Read data as HUDI "
   ]
  },
  {
   "cell_type": "code",
   "execution_count": 29,
   "id": "4d063637-aab8-4c7c-968b-d9dab3548030",
   "metadata": {},
   "outputs": [
    {
     "name": "stdout",
     "output_type": "stream",
     "text": [
      "The sql extension is already loaded. To reload it, use:\n",
      "  %reload_ext sql\n"
     ]
    }
   ],
   "source": [
    "%load_ext sql"
   ]
  },
  {
   "cell_type": "code",
   "execution_count": 32,
   "id": "6d2d4f61-d068-4f08-8343-8c70ac54ff5f",
   "metadata": {},
   "outputs": [],
   "source": [
    "%sql trino://admin@localhost:8080/default"
   ]
  },
  {
   "cell_type": "code",
   "execution_count": 31,
   "id": "a44f9058-8895-45fd-a7f1-ad2eae3220e4",
   "metadata": {},
   "outputs": [
    {
     "name": "stdout",
     "output_type": "stream",
     "text": [
      " * trino://admin@localhost:8080/default\n",
      "(trino.exceptions.TrinoUserError) TrinoUserError(type=USER_ERROR, name=NOT_FOUND, message=\"Schema does not exist: hudi.iceberg\", query_id=20240412_091603_00013_wmspu)\n",
      "[SQL: USE iceberg]\n",
      "(Background on this error at: https://sqlalche.me/e/20/f405)\n"
     ]
    }
   ],
   "source": []
  },
  {
   "cell_type": "code",
   "execution_count": 33,
   "id": "154fc82f-b218-47c2-8028-05b970b6a782",
   "metadata": {},
   "outputs": [
    {
     "name": "stdout",
     "output_type": "stream",
     "text": [
      " * trino://admin@localhost:8080/default\n",
      "Done.\n"
     ]
    },
    {
     "data": {
      "text/html": [
       "<table>\n",
       "    <thead>\n",
       "        <tr>\n",
       "            <th>Catalog</th>\n",
       "        </tr>\n",
       "    </thead>\n",
       "    <tbody>\n",
       "        <tr>\n",
       "            <td>delta</td>\n",
       "        </tr>\n",
       "        <tr>\n",
       "            <td>hive</td>\n",
       "        </tr>\n",
       "        <tr>\n",
       "            <td>hudi</td>\n",
       "        </tr>\n",
       "        <tr>\n",
       "            <td>iceberg</td>\n",
       "        </tr>\n",
       "        <tr>\n",
       "            <td>minio</td>\n",
       "        </tr>\n",
       "        <tr>\n",
       "            <td>system</td>\n",
       "        </tr>\n",
       "    </tbody>\n",
       "</table>"
      ],
      "text/plain": [
       "[('delta',), ('hive',), ('hudi',), ('iceberg',), ('minio',), ('system',)]"
      ]
     },
     "execution_count": 33,
     "metadata": {},
     "output_type": "execute_result"
    }
   ],
   "source": [
    "%sql SHOW CATALOGS"
   ]
  },
  {
   "cell_type": "code",
   "execution_count": 34,
   "id": "3b9db31f-aba4-4525-be67-1d0333c177af",
   "metadata": {},
   "outputs": [
    {
     "name": "stdout",
     "output_type": "stream",
     "text": [
      " * trino://admin@localhost:8080/default\n",
      "Done.\n"
     ]
    },
    {
     "data": {
      "text/plain": [
       "[]"
      ]
     },
     "execution_count": 34,
     "metadata": {},
     "output_type": "execute_result"
    }
   ],
   "source": [
    "%sql USE hudi.default"
   ]
  },
  {
   "cell_type": "code",
   "execution_count": 35,
   "id": "b8201b34-f4c2-4504-b6d9-9957ffa23609",
   "metadata": {},
   "outputs": [
    {
     "name": "stdout",
     "output_type": "stream",
     "text": [
      " * trino://admin@localhost:8080/default\n",
      "Done.\n"
     ]
    },
    {
     "data": {
      "text/html": [
       "<table>\n",
       "    <thead>\n",
       "        <tr>\n",
       "            <th>Table</th>\n",
       "        </tr>\n",
       "    </thead>\n",
       "    <tbody>\n",
       "        <tr>\n",
       "            <td>customers</td>\n",
       "        </tr>\n",
       "        <tr>\n",
       "            <td>orders</td>\n",
       "        </tr>\n",
       "    </tbody>\n",
       "</table>"
      ],
      "text/plain": [
       "[('customers',), ('orders',)]"
      ]
     },
     "execution_count": 35,
     "metadata": {},
     "output_type": "execute_result"
    }
   ],
   "source": [
    "%sql show tables"
   ]
  },
  {
   "cell_type": "code",
   "execution_count": 36,
   "id": "e8661274-5c7d-447b-8e06-3acbd716538d",
   "metadata": {},
   "outputs": [
    {
     "name": "stdout",
     "output_type": "stream",
     "text": [
      " * trino://admin@localhost:8080/default\n",
      "Done.\n"
     ]
    },
    {
     "data": {
      "text/html": [
       "<table>\n",
       "    <thead>\n",
       "        <tr>\n",
       "            <th>_hoodie_commit_time</th>\n",
       "            <th>_hoodie_commit_seqno</th>\n",
       "            <th>_hoodie_record_key</th>\n",
       "            <th>_hoodie_partition_path</th>\n",
       "            <th>_hoodie_file_name</th>\n",
       "            <th>_change_operation_type</th>\n",
       "            <th>_upstream_event_processed_ts_ms</th>\n",
       "            <th>db_shard_source_partition</th>\n",
       "            <th>db_schema_source_partition</th>\n",
       "            <th>_event_origin_ts_ms</th>\n",
       "            <th>_event_tx_id</th>\n",
       "            <th>_event_lsn</th>\n",
       "            <th>_event_xmin</th>\n",
       "            <th>customer_id</th>\n",
       "            <th>customer_name</th>\n",
       "            <th>customer_address</th>\n",
       "            <th>customer_city</th>\n",
       "            <th>customer_state</th>\n",
       "            <th>customer_zip_code</th>\n",
       "            <th>customer_contact_number</th>\n",
       "            <th>customer_email</th>\n",
       "            <th>ts</th>\n",
       "        </tr>\n",
       "    </thead>\n",
       "    <tbody>\n",
       "    </tbody>\n",
       "</table>"
      ],
      "text/plain": [
       "[]"
      ]
     },
     "execution_count": 36,
     "metadata": {},
     "output_type": "execute_result"
    }
   ],
   "source": [
    "%sql select * from customers"
   ]
  },
  {
   "cell_type": "code",
   "execution_count": 7,
   "id": "3e49e25d-5423-437a-9118-bc918c0d153e",
   "metadata": {},
   "outputs": [
    {
     "name": "stdout",
     "output_type": "stream",
     "text": [
      " * trino://admin@localhost:8080/default\n",
      "Done.\n"
     ]
    },
    {
     "data": {
      "text/html": [
       "<table>\n",
       "    <thead>\n",
       "        <tr>\n",
       "            <th>salesid</th>\n",
       "            <th>referral</th>\n",
       "        </tr>\n",
       "    </thead>\n",
       "    <tbody>\n",
       "        <tr>\n",
       "            <td>1</td>\n",
       "            <td>Friend</td>\n",
       "        </tr>\n",
       "        <tr>\n",
       "            <td>3</td>\n",
       "            <td>WordOfMouth</td>\n",
       "        </tr>\n",
       "        <tr>\n",
       "            <td>5</td>\n",
       "            <td>WordOfMouth</td>\n",
       "        </tr>\n",
       "        <tr>\n",
       "            <td>2</td>\n",
       "            <td>OnlineAd</td>\n",
       "        </tr>\n",
       "        <tr>\n",
       "            <td>4</td>\n",
       "            <td>SocialMedia</td>\n",
       "        </tr>\n",
       "    </tbody>\n",
       "</table>"
      ],
      "text/plain": [
       "[(1, 'Friend'),\n",
       " (3, 'WordOfMouth'),\n",
       " (5, 'WordOfMouth'),\n",
       " (2, 'OnlineAd'),\n",
       " (4, 'SocialMedia')]"
      ]
     },
     "execution_count": 7,
     "metadata": {},
     "output_type": "execute_result"
    }
   ],
   "source": [
    "%sql SELECT salesid,referral  FROM sales "
   ]
  },
  {
   "cell_type": "markdown",
   "id": "889dd4c8-8c76-481d-859a-75457967e159",
   "metadata": {},
   "source": [
    " %sql describe  sales"
   ]
  },
  {
   "cell_type": "markdown",
   "id": "4deaad12-8e98-45d7-9950-dc396074f1d7",
   "metadata": {},
   "source": [
    "# Delta"
   ]
  },
  {
   "cell_type": "code",
   "execution_count": 8,
   "id": "cf25c610-508a-4dbb-a35f-492827a21562",
   "metadata": {},
   "outputs": [
    {
     "name": "stdout",
     "output_type": "stream",
     "text": [
      " * trino://admin@localhost:8080/default\n",
      "Done.\n"
     ]
    },
    {
     "data": {
      "text/html": [
       "<table>\n",
       "    <thead>\n",
       "        <tr>\n",
       "            <th>Catalog</th>\n",
       "        </tr>\n",
       "    </thead>\n",
       "    <tbody>\n",
       "        <tr>\n",
       "            <td>delta</td>\n",
       "        </tr>\n",
       "        <tr>\n",
       "            <td>hive</td>\n",
       "        </tr>\n",
       "        <tr>\n",
       "            <td>hudi</td>\n",
       "        </tr>\n",
       "        <tr>\n",
       "            <td>iceberg</td>\n",
       "        </tr>\n",
       "        <tr>\n",
       "            <td>minio</td>\n",
       "        </tr>\n",
       "        <tr>\n",
       "            <td>system</td>\n",
       "        </tr>\n",
       "    </tbody>\n",
       "</table>"
      ],
      "text/plain": [
       "[('delta',), ('hive',), ('hudi',), ('iceberg',), ('minio',), ('system',)]"
      ]
     },
     "execution_count": 8,
     "metadata": {},
     "output_type": "execute_result"
    }
   ],
   "source": [
    "%sql SHOW CATALOGS"
   ]
  },
  {
   "cell_type": "code",
   "execution_count": 10,
   "id": "7d50291f-4a39-48b0-8487-5854ad855d2c",
   "metadata": {},
   "outputs": [
    {
     "name": "stdout",
     "output_type": "stream",
     "text": [
      " * trino://admin@localhost:8080/default\n",
      "Done.\n"
     ]
    },
    {
     "data": {
      "text/plain": [
       "[]"
      ]
     },
     "execution_count": 10,
     "metadata": {},
     "output_type": "execute_result"
    }
   ],
   "source": [
    "%sql USE delta.delta_db"
   ]
  },
  {
   "cell_type": "code",
   "execution_count": 11,
   "id": "f957d773-8634-4019-a586-003fcac2aa88",
   "metadata": {},
   "outputs": [
    {
     "name": "stdout",
     "output_type": "stream",
     "text": [
      " * trino://admin@localhost:8080/default\n",
      "Done.\n"
     ]
    },
    {
     "data": {
      "text/html": [
       "<table>\n",
       "    <thead>\n",
       "        <tr>\n",
       "            <th>Table</th>\n",
       "        </tr>\n",
       "    </thead>\n",
       "    <tbody>\n",
       "        <tr>\n",
       "            <td>delta_sales</td>\n",
       "        </tr>\n",
       "    </tbody>\n",
       "</table>"
      ],
      "text/plain": [
       "[('delta_sales',)]"
      ]
     },
     "execution_count": 11,
     "metadata": {},
     "output_type": "execute_result"
    }
   ],
   "source": [
    "%sql show tables"
   ]
  },
  {
   "cell_type": "code",
   "execution_count": 12,
   "id": "72bab063-765a-4a5c-9e6b-16d8625b195b",
   "metadata": {},
   "outputs": [
    {
     "name": "stdout",
     "output_type": "stream",
     "text": [
      " * trino://admin@localhost:8080/default\n",
      "Done.\n"
     ]
    },
    {
     "data": {
      "text/html": [
       "<table>\n",
       "    <thead>\n",
       "        <tr>\n",
       "            <th>_hoodie_commit_time</th>\n",
       "            <th>_hoodie_commit_seqno</th>\n",
       "            <th>_hoodie_record_key</th>\n",
       "            <th>_hoodie_partition_path</th>\n",
       "            <th>_hoodie_file_name</th>\n",
       "            <th>_change_operation_type</th>\n",
       "            <th>_upstream_event_processed_ts_ms</th>\n",
       "            <th>db_shard_source_partition</th>\n",
       "            <th>db_schema_source_partition</th>\n",
       "            <th>_event_origin_ts_ms</th>\n",
       "            <th>_event_tx_id</th>\n",
       "            <th>_event_lsn</th>\n",
       "            <th>_event_xmin</th>\n",
       "            <th>salesid</th>\n",
       "            <th>invoiceid</th>\n",
       "            <th>itemid</th>\n",
       "            <th>category</th>\n",
       "            <th>price</th>\n",
       "            <th>quantity</th>\n",
       "            <th>orderdate</th>\n",
       "            <th>destinationstate</th>\n",
       "            <th>shippingtype</th>\n",
       "            <th>referral</th>\n",
       "            <th>updated_at</th>\n",
       "        </tr>\n",
       "    </thead>\n",
       "    <tbody>\n",
       "        <tr>\n",
       "            <td>20240409120804776</td>\n",
       "            <td>20240409120804776_0_0</td>\n",
       "            <td>1</td>\n",
       "            <td></td>\n",
       "            <td>3854015c-8a7b-449b-aea2-8e7a1f42d121-0_0-26-28_20240409120804776.parquet</td>\n",
       "            <td>r</td>\n",
       "            <td>1712664387642</td>\n",
       "            <td>hive</td>\n",
       "            <td>public</td>\n",
       "            <td>1712664387633</td>\n",
       "            <td>832</td>\n",
       "            <td>25906192</td>\n",
       "            <td>None</td>\n",
       "            <td>1</td>\n",
       "            <td>101</td>\n",
       "            <td>1</td>\n",
       "            <td>Electronics</td>\n",
       "            <td>599.99</td>\n",
       "            <td>2</td>\n",
       "            <td>19682</td>\n",
       "            <td>California</td>\n",
       "            <td>Express</td>\n",
       "            <td>Friend</td>\n",
       "            <td>1712663944421609</td>\n",
       "        </tr>\n",
       "        <tr>\n",
       "            <td>20240409120804776</td>\n",
       "            <td>20240409120804776_0_1</td>\n",
       "            <td>3</td>\n",
       "            <td></td>\n",
       "            <td>3854015c-8a7b-449b-aea2-8e7a1f42d121-0_0-26-28_20240409120804776.parquet</td>\n",
       "            <td>r</td>\n",
       "            <td>1712664387643</td>\n",
       "            <td>hive</td>\n",
       "            <td>public</td>\n",
       "            <td>1712664387643</td>\n",
       "            <td>832</td>\n",
       "            <td>25906192</td>\n",
       "            <td>None</td>\n",
       "            <td>3</td>\n",
       "            <td>103</td>\n",
       "            <td>2</td>\n",
       "            <td>Home &amp; Garden</td>\n",
       "            <td>199.50</td>\n",
       "            <td>1</td>\n",
       "            <td>19684</td>\n",
       "            <td>Texas</td>\n",
       "            <td>Express</td>\n",
       "            <td>WordOfMouth</td>\n",
       "            <td>1712663944433965</td>\n",
       "        </tr>\n",
       "        <tr>\n",
       "            <td>20240409120804776</td>\n",
       "            <td>20240409120804776_0_2</td>\n",
       "            <td>5</td>\n",
       "            <td></td>\n",
       "            <td>3854015c-8a7b-449b-aea2-8e7a1f42d121-0_0-26-28_20240409120804776.parquet</td>\n",
       "            <td>r</td>\n",
       "            <td>1712664387644</td>\n",
       "            <td>hive</td>\n",
       "            <td>public</td>\n",
       "            <td>1712664387643</td>\n",
       "            <td>832</td>\n",
       "            <td>25906192</td>\n",
       "            <td>None</td>\n",
       "            <td>5</td>\n",
       "            <td>103</td>\n",
       "            <td>2</td>\n",
       "            <td>Home &amp; Garden</td>\n",
       "            <td>199.50</td>\n",
       "            <td>1</td>\n",
       "            <td>19684</td>\n",
       "            <td>Texas</td>\n",
       "            <td>Express</td>\n",
       "            <td>WordOfMouth</td>\n",
       "            <td>1712663944445790</td>\n",
       "        </tr>\n",
       "        <tr>\n",
       "            <td>20240409120804776</td>\n",
       "            <td>20240409120804776_0_3</td>\n",
       "            <td>2</td>\n",
       "            <td></td>\n",
       "            <td>3854015c-8a7b-449b-aea2-8e7a1f42d121-0_0-26-28_20240409120804776.parquet</td>\n",
       "            <td>r</td>\n",
       "            <td>1712664387643</td>\n",
       "            <td>hive</td>\n",
       "            <td>public</td>\n",
       "            <td>1712664387642</td>\n",
       "            <td>832</td>\n",
       "            <td>25906192</td>\n",
       "            <td>None</td>\n",
       "            <td>2</td>\n",
       "            <td>102</td>\n",
       "            <td>3</td>\n",
       "            <td>Clothing</td>\n",
       "            <td>49.99</td>\n",
       "            <td>5</td>\n",
       "            <td>19683</td>\n",
       "            <td>New York</td>\n",
       "            <td>Standard</td>\n",
       "            <td>OnlineAd</td>\n",
       "            <td>1712663944428261</td>\n",
       "        </tr>\n",
       "        <tr>\n",
       "            <td>20240409120804776</td>\n",
       "            <td>20240409120804776_0_4</td>\n",
       "            <td>4</td>\n",
       "            <td></td>\n",
       "            <td>3854015c-8a7b-449b-aea2-8e7a1f42d121-0_0-26-28_20240409120804776.parquet</td>\n",
       "            <td>r</td>\n",
       "            <td>1712664387643</td>\n",
       "            <td>hive</td>\n",
       "            <td>public</td>\n",
       "            <td>1712664387643</td>\n",
       "            <td>832</td>\n",
       "            <td>25906192</td>\n",
       "            <td>None</td>\n",
       "            <td>4</td>\n",
       "            <td>104</td>\n",
       "            <td>4</td>\n",
       "            <td>Books</td>\n",
       "            <td>15.75</td>\n",
       "            <td>3</td>\n",
       "            <td>19685</td>\n",
       "            <td>Florida</td>\n",
       "            <td>Standard</td>\n",
       "            <td>SocialMedia</td>\n",
       "            <td>1712663944439996</td>\n",
       "        </tr>\n",
       "    </tbody>\n",
       "</table>"
      ],
      "text/plain": [
       "[('20240409120804776', '20240409120804776_0_0', '1', '', '3854015c-8a7b-449b-aea2-8e7a1f42d121-0_0-26-28_20240409120804776.parquet', 'r', 1712664387642, 'hive', 'public', 1712664387633, 832, 25906192, None, 1, 101, 1, 'Electronics', Decimal('599.99'), 2, 19682, 'California', 'Express', 'Friend', 1712663944421609),\n",
       " ('20240409120804776', '20240409120804776_0_1', '3', '', '3854015c-8a7b-449b-aea2-8e7a1f42d121-0_0-26-28_20240409120804776.parquet', 'r', 1712664387643, 'hive', 'public', 1712664387643, 832, 25906192, None, 3, 103, 2, 'Home & Garden', Decimal('199.50'), 1, 19684, 'Texas', 'Express', 'WordOfMouth', 1712663944433965),\n",
       " ('20240409120804776', '20240409120804776_0_2', '5', '', '3854015c-8a7b-449b-aea2-8e7a1f42d121-0_0-26-28_20240409120804776.parquet', 'r', 1712664387644, 'hive', 'public', 1712664387643, 832, 25906192, None, 5, 103, 2, 'Home & Garden', Decimal('199.50'), 1, 19684, 'Texas', 'Express', 'WordOfMouth', 1712663944445790),\n",
       " ('20240409120804776', '20240409120804776_0_3', '2', '', '3854015c-8a7b-449b-aea2-8e7a1f42d121-0_0-26-28_20240409120804776.parquet', 'r', 1712664387643, 'hive', 'public', 1712664387642, 832, 25906192, None, 2, 102, 3, 'Clothing', Decimal('49.99'), 5, 19683, 'New York', 'Standard', 'OnlineAd', 1712663944428261),\n",
       " ('20240409120804776', '20240409120804776_0_4', '4', '', '3854015c-8a7b-449b-aea2-8e7a1f42d121-0_0-26-28_20240409120804776.parquet', 'r', 1712664387643, 'hive', 'public', 1712664387643, 832, 25906192, None, 4, 104, 4, 'Books', Decimal('15.75'), 3, 19685, 'Florida', 'Standard', 'SocialMedia', 1712663944439996)]"
      ]
     },
     "execution_count": 12,
     "metadata": {},
     "output_type": "execute_result"
    }
   ],
   "source": [
    "%sql select * from delta_sales"
   ]
  },
  {
   "cell_type": "code",
   "execution_count": 17,
   "id": "e33c2e8e-159a-43dd-b674-2fcaf18688f0",
   "metadata": {},
   "outputs": [
    {
     "name": "stdout",
     "output_type": "stream",
     "text": [
      " * trino://admin@localhost:8080/default\n",
      "Done.\n"
     ]
    },
    {
     "data": {
      "text/html": [
       "<table>\n",
       "    <thead>\n",
       "        <tr>\n",
       "            <th>Catalog</th>\n",
       "        </tr>\n",
       "    </thead>\n",
       "    <tbody>\n",
       "        <tr>\n",
       "            <td>delta</td>\n",
       "        </tr>\n",
       "        <tr>\n",
       "            <td>hive</td>\n",
       "        </tr>\n",
       "        <tr>\n",
       "            <td>hudi</td>\n",
       "        </tr>\n",
       "        <tr>\n",
       "            <td>iceberg</td>\n",
       "        </tr>\n",
       "        <tr>\n",
       "            <td>minio</td>\n",
       "        </tr>\n",
       "        <tr>\n",
       "            <td>system</td>\n",
       "        </tr>\n",
       "    </tbody>\n",
       "</table>"
      ],
      "text/plain": [
       "[('delta',), ('hive',), ('hudi',), ('iceberg',), ('minio',), ('system',)]"
      ]
     },
     "execution_count": 17,
     "metadata": {},
     "output_type": "execute_result"
    }
   ],
   "source": [
    "%sql show CATALOGS"
   ]
  },
  {
   "cell_type": "code",
   "execution_count": 19,
   "id": "7f7ae4ed-5f07-4442-a7e4-f11999c12a9f",
   "metadata": {},
   "outputs": [
    {
     "name": "stdout",
     "output_type": "stream",
     "text": [
      " * trino://admin@localhost:8080/default\n",
      "Done.\n"
     ]
    },
    {
     "data": {
      "text/plain": [
       "[]"
      ]
     },
     "execution_count": 19,
     "metadata": {},
     "output_type": "execute_result"
    }
   ],
   "source": [
    "%sql USE iceberg.iceberg_db"
   ]
  },
  {
   "cell_type": "code",
   "execution_count": 25,
   "id": "48e4db20-b5f3-4b18-a313-bebaa740da56",
   "metadata": {},
   "outputs": [
    {
     "name": "stdout",
     "output_type": "stream",
     "text": [
      " * trino://admin@localhost:8080/default\n",
      "Done.\n"
     ]
    },
    {
     "data": {
      "text/html": [
       "<table>\n",
       "    <thead>\n",
       "        <tr>\n",
       "            <th>Table</th>\n",
       "        </tr>\n",
       "    </thead>\n",
       "    <tbody>\n",
       "        <tr>\n",
       "            <td>ice_sales</td>\n",
       "        </tr>\n",
       "    </tbody>\n",
       "</table>"
      ],
      "text/plain": [
       "[('ice_sales',)]"
      ]
     },
     "execution_count": 25,
     "metadata": {},
     "output_type": "execute_result"
    }
   ],
   "source": [
    "%sql show tables"
   ]
  },
  {
   "cell_type": "code",
   "execution_count": 24,
   "id": "e70dca02-f4ec-4669-8b8f-bd5603bed6d3",
   "metadata": {},
   "outputs": [
    {
     "name": "stdout",
     "output_type": "stream",
     "text": [
      " * trino://admin@localhost:8080/default\n",
      "(trino.exceptions.TrinoExternalError) TrinoExternalError(type=EXTERNAL, name=UNSUPPORTED_TABLE_TYPE, message=\"Not an Iceberg table: iceberg_db.ice_sales\", query_id=20240408_105550_00019_ti2fz)\n",
      "[SQL: select * from ice_sales]\n",
      "(Background on this error at: https://sqlalche.me/e/20/e3q8)\n"
     ]
    }
   ],
   "source": [
    "%sql select * from ice_sales"
   ]
  }
 ],
 "metadata": {
  "kernelspec": {
   "display_name": "Python 3 (ipykernel)",
   "language": "python",
   "name": "python3"
  },
  "language_info": {
   "codemirror_mode": {
    "name": "ipython",
    "version": 3
   },
   "file_extension": ".py",
   "mimetype": "text/x-python",
   "name": "python",
   "nbconvert_exporter": "python",
   "pygments_lexer": "ipython3",
   "version": "3.10.13"
  }
 },
 "nbformat": 4,
 "nbformat_minor": 5
}
